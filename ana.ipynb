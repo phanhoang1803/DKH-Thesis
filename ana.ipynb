{
 "cells": [
  {
   "cell_type": "code",
   "execution_count": 7,
   "metadata": {},
   "outputs": [],
   "source": [
    "import json\n",
    "import os"
   ]
  },
  {
   "cell_type": "code",
   "execution_count": 8,
   "metadata": {},
   "outputs": [],
   "source": [
    "folder = \"queries_dataset/merged_balanced/inverse_search/test\""
   ]
  },
  {
   "cell_type": "code",
   "execution_count": 9,
   "metadata": {},
   "outputs": [],
   "source": [
    "all_idx = None\n",
    "with open(\"queries_dataset/merged_balanced/inverse_search/test/test.json\", \"r\") as f:\n",
    "    all_idx = json.load(f)\n",
    "\n",
    "all_idx = {}\n",
    "for i in range(4560):\n",
    "    if os.path.exists(os.path.join(folder, str(i), \"inverse_annotation.json\")):\n",
    "        new_entry = {\n",
    "                str(i): {\n",
    "                    \"folder_path\": f\"queries_dataset\\\\merged_balanced\\\\inverse_search\\\\test\\\\{i}\"\n",
    "                },\n",
    "        }\n",
    "        \n",
    "        all_idx.update(new_entry)\n",
    "    \n",
    "with open(\"queries_dataset/merged_balanced/inverse_search/test/test1.json\", \"w\") as f:\n",
    "    json.dump(all_idx, f)"
   ]
  }
 ],
 "metadata": {
  "kernelspec": {
   "display_name": "venv",
   "language": "python",
   "name": "python3"
  },
  "language_info": {
   "codemirror_mode": {
    "name": "ipython",
    "version": 3
   },
   "file_extension": ".py",
   "mimetype": "text/x-python",
   "name": "python",
   "nbconvert_exporter": "python",
   "pygments_lexer": "ipython3",
   "version": "3.10.11"
  }
 },
 "nbformat": 4,
 "nbformat_minor": 2
}
