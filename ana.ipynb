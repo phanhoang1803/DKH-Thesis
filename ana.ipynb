{
 "cells": [
  {
   "cell_type": "code",
   "execution_count": 1,
   "metadata": {},
   "outputs": [],
   "source": [
    "import pandas as pd\n",
    "import numpy as np\n",
    "import matplotlib.pyplot as plt\n",
    "import json\n",
    "import os"
   ]
  },
  {
   "cell_type": "code",
   "execution_count": 2,
   "metadata": {},
   "outputs": [],
   "source": [
    "with open(\"test_dataset/links_test.json\", \"r\") as file:\n",
    "    data1 = json.load(file)\n",
    "\n",
    "with open(\"test_dataset/news_clippings_test.json\", \"r\") as file:\n",
    "    data2= json.load(file)\n"
   ]
  },
  {
   "cell_type": "code",
   "execution_count": 3,
   "metadata": {},
   "outputs": [
    {
     "name": "stdout",
     "output_type": "stream",
     "text": [
      "7232\n"
     ]
    }
   ],
   "source": [
    "print(len(data1))"
   ]
  },
  {
   "cell_type": "code",
   "execution_count": 4,
   "metadata": {},
   "outputs": [
    {
     "name": "stdout",
     "output_type": "stream",
     "text": [
      "7264\n"
     ]
    }
   ],
   "source": [
    "print(len(data2[\"annotations\"]))"
   ]
  },
  {
   "cell_type": "code",
   "execution_count": 10,
   "metadata": {},
   "outputs": [
    {
     "data": {
      "text/plain": [
       "{'label': 0,\n",
       " 'entities': ['Premier League',\n",
       "  'Newcastle United F.C.',\n",
       "  'Manchester United F.C.',\n",
       "  'Football player',\n",
       "  '1995-96 Newcastle United F.C. season',\n",
       "  'Team sport',\n",
       "  'Gavin Peacock',\n",
       "  'Kevin Keegan',\n",
       "  'Paulo Wanchope',\n",
       "  'Match of the Day',\n",
       "  'Story of Faith',\n",
       "  'player'],\n",
       " 'links_direct_search': [['https://i.guim.co.uk/img/media/9579048b9d1719f10a80a0505c52bad0bb95133e/0_77_1645_988/master/1645.jpg?width=445&quality=45&auto=format&fit=max&dpr=2&s=19dba23fb9337206e5b4da86ec2c4ada',\n",
       "   'https://www.theguardian.com/football/2015/sep/24/newcastle-united-1995-entertainers-kevin-keegan-book-extract'],\n",
       "  ['https://upload.wikimedia.org/wikipedia/commons/f/f9/Kevin_Keegan_2.jpg',\n",
       "   'https://en.wikipedia.org/wiki/Kevin_Keegan'],\n",
       "  ['https://i.guim.co.uk/img/media/13b4ca7459dcfef32ac1d953760567a2b757eb13/0_235_4096_2459/master/4096.jpg?width=1200&height=1200&quality=85&auto=format&fit=crop&s=f88cb4398a842e6c6c2cd3fe9fa7bb87',\n",
       "   'https://www.theguardian.com/football/2015/sep/24/newcastle-united-1995-entertainers-kevin-keegan-book-extract'],\n",
       "  ['https://i.guim.co.uk/img/media/13b4ca7459dcfef32ac1d953760567a2b757eb13/0_235_4096_2459/master/4096.jpg?width=445&quality=45&auto=format&fit=max&dpr=2&s=1120f47fa4be812e66e544efb85898ca',\n",
       "   'https://www.theguardian.com/football/2015/sep/24/newcastle-united-1995-entertainers-kevin-keegan-book-extract'],\n",
       "  ['https://documents-public.yumpu.news/scrcloadwjpr79m0sttjtr6dru9m3jri/aafa820a308c7e3edb574464ec90c78e/49702b45577a57625a644f436f6378475a6d6f576a413d3d/6e3043562f455153716c594444742b5a726136564e673d3d.jpg',\n",
       "   'https://www.yumpu.com/news/en/issue/93002-newcastle-chronicle-2021-04-20'],\n",
       "  ['https://i.guim.co.uk/img/media/9579048b9d1719f10a80a0505c52bad0bb95133e/0_77_1645_988/master/1645.jpg?width=700&quality=85&auto=format&fit=max&s=3ad5957da564580bf08c5030058bd565',\n",
       "   'https://www.theguardian.com/football/2015/sep/24/newcastle-united-1995-entertainers-kevin-keegan-book-extract'],\n",
       "  ['https://documents-public.yumpu.news/p3vvwhnx2fllhupvqmljo7guhdannzpe/83feb89f70b033df44584008396d766a/58494c764d4631676d2b4e56776976685348423176513d3d/4e6f7631317a544d41576b6362533342505a78636c773d3d.jpg',\n",
       "   'https://www.yumpu.com/news/en/issue/89595-tv-times-magazine-2021-03-23'],\n",
       "  ['https://i.guim.co.uk/img/media/35d4e048d571b5d2c59716ec8436dbd952548db9/0_172_1200_719/master/1200.jpg?width=445&quality=45&auto=format&fit=max&dpr=2&s=59d90d9612b8afabdf79efff8f67c69e',\n",
       "   'https://www.theguardian.com/football/2015/sep/24/newcastle-united-1995-entertainers-kevin-keegan-book-extract'],\n",
       "  ['https://documents-public.yumpu.news/p3vvwhnx2fllhupvqmljo7guhdannzpe/83feb89f70b033df44584008396d766a/4e454e324b4c385462304d3043646b33574456424e413d3d/4e6f7631317a544d41576b6362533342505a78636c773d3d.jpg',\n",
       "   'https://www.yumpu.com/news/en/issue/89595-tv-times-magazine-2021-03-23']],\n",
       " 'links_inv_search': [['https://i.guim.co.uk/img/media/9579048b9d1719f10a80a0505c52bad0bb95133e/0_0_1645_1268/master/1645.jpg?width=300&quality=45&auto=format&fit=max&dpr=2&s=d5516c1d5777cfa0ecd8ad3f3651284d',\n",
       "   'https://teststar.in/1c009a-bradley-cooper-lined-up-to-play-barry-gibb-in-bee-gees-biopic_football/2017/jul/03/premier-league-fans-all-47-clubs-best-worst-moments'],\n",
       "  ['https://i.guim.co.uk/img/media/9579048b9d1719f10a80a0505c52bad0bb95133e/0_0_1645_1268/master/1645.jpg?width=300&quality=45&auto=format&fit=max&dpr=2&s=d5516c1d5777cfa0ecd8ad3f3651284d',\n",
       "   'https://www.theguardian.com/football/2017/jul/03/premier-league-fans-all-47-clubs-best-worst-moments'],\n",
       "  ['https://i.guim.co.uk/img/media/9579048b9d1719f10a80a0505c52bad0bb95133e/0_77_1645_988/master/1645.jpg?width=445&quality=45&auto=format&fit=max&dpr=2&s=19dba23fb9337206e5b4da86ec2c4ada',\n",
       "   'https://www.theguardian.com/football/2015/sep/24/newcastle-united-1995-entertainers-kevin-keegan-book-extract'],\n",
       "  ['https://freechurch.org/assets/images/GavinPeacock2.jpg',\n",
       "   'https://freechurch.org/news/premiership-footballer-shares-his-story-of-faith-with-free-church-youth']]}"
      ]
     },
     "execution_count": 10,
     "metadata": {},
     "output_type": "execute_result"
    }
   ],
   "source": [
    "data1[\"7232\"]"
   ]
  },
  {
   "cell_type": "code",
   "execution_count": 11,
   "metadata": {},
   "outputs": [
    {
     "name": "stdout",
     "output_type": "stream",
     "text": [
      "{'id': 835750, 'image_id': 835750, 'similarity_score': 1, 'source_dataset': 1, 'falsified': False}\n"
     ]
    }
   ],
   "source": [
    "print(data2[\"annotations\"][7232])"
   ]
  },
  {
   "cell_type": "code",
   "execution_count": null,
   "metadata": {},
   "outputs": [],
   "source": []
  }
 ],
 "metadata": {
  "kernelspec": {
   "display_name": "venv",
   "language": "python",
   "name": "python3"
  },
  "language_info": {
   "codemirror_mode": {
    "name": "ipython",
    "version": 3
   },
   "file_extension": ".py",
   "mimetype": "text/x-python",
   "name": "python",
   "nbconvert_exporter": "python",
   "pygments_lexer": "ipython3",
   "version": "3.10.11"
  }
 },
 "nbformat": 4,
 "nbformat_minor": 2
}
