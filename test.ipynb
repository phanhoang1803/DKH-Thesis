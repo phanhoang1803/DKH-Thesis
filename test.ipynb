{
 "cells": [
  {
   "cell_type": "code",
   "execution_count": null,
   "metadata": {},
   "outputs": [],
   "source": [
    "import json\n",
    "from urllib.parse import urlparse"
   ]
  },
  {
   "cell_type": "code",
   "execution_count": null,
   "metadata": {},
   "outputs": [],
   "source": [
    "def extract_domains(data):\n",
    "    \"\"\"\n",
    "    Extract unique source domains from article URLs in the data\n",
    "    \"\"\"\n",
    "    domains = set()\n",
    "    for item in data:\n",
    "        url = item.get('article_url', '')\n",
    "        if url:\n",
    "            domain = urlparse(url).netloc\n",
    "            # Remove 'www.' prefix if present\n",
    "            domain = domain.replace('www.', '')\n",
    "            domains.add(domain)\n",
    "    \n",
    "    return sorted(list(domains))"
   ]
  },
  {
   "cell_type": "code",
   "execution_count": null,
   "metadata": {},
   "outputs": [],
   "source": [
    "with open(\"data/public_test_acm.json\", 'r', encoding='utf-8') as file:\n",
    "            data = json.load(file)"
   ]
  }
 ],
 "metadata": {
  "language_info": {
   "name": "python"
  }
 },
 "nbformat": 4,
 "nbformat_minor": 2
}
