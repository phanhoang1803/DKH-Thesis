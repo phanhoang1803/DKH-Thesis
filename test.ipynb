{
 "cells": [
  {
   "cell_type": "code",
   "execution_count": 2,
   "metadata": {},
   "outputs": [],
   "source": [
    "import json\n",
    "from urllib.parse import urlparse"
   ]
  },
  {
   "cell_type": "code",
   "execution_count": 3,
   "metadata": {},
   "outputs": [],
   "source": [
    "def extract_domains(data):\n",
    "    \"\"\"\n",
    "    Extract unique source domains from article URLs in the data\n",
    "    \"\"\"\n",
    "    domains = set()\n",
    "    for item in data:\n",
    "        url = item.get('article_url', '')\n",
    "        if url:\n",
    "            domain = urlparse(url).netloc\n",
    "            # Remove 'www.' prefix if present\n",
    "            domain = domain.replace('www.', '')\n",
    "            domains.add(domain)\n",
    "    \n",
    "    return sorted(list(domains))"
   ]
  },
  {
   "cell_type": "code",
   "execution_count": 4,
   "metadata": {},
   "outputs": [],
   "source": [
    "with open(\"data/public_test_acm.json\", 'r', encoding='utf-8') as file:\n",
    "    data = json.load(file)"
   ]
  },
  {
   "cell_type": "code",
   "execution_count": 5,
   "metadata": {},
   "outputs": [],
   "source": [
    "domains = extract_domains(data)"
   ]
  },
  {
   "cell_type": "code",
   "execution_count": 6,
   "metadata": {},
   "outputs": [
    {
     "data": {
      "text/plain": [
       "['',\n",
       " 'abc30.com',\n",
       " 'arabnews.com',\n",
       " 'arkansasonline.com',\n",
       " 'bbc.com',\n",
       " 'bloomberg.com',\n",
       " 'cbc.ca',\n",
       " 'chinese.uhrp.org',\n",
       " 'cn.nytimes.com',\n",
       " 'cnnphilippines.com',\n",
       " 'commons.wikimedia.org',\n",
       " 'cpr.org',\n",
       " 'denverpost.com',\n",
       " 'dvidshub.net',\n",
       " 'edition.cnn.com',\n",
       " 'en.wikipedia.org',\n",
       " 'english.aawsat.com',\n",
       " 'georgeherald.com',\n",
       " 'gettyimages.de',\n",
       " 'gettyimages.fi',\n",
       " 'google.com',\n",
       " 'irishnews.com',\n",
       " 'lonelyplanet.com',\n",
       " 'm.lasvegassun.com',\n",
       " 'military.com',\n",
       " 'mirror.co.uk',\n",
       " 'mprnews.org',\n",
       " 'nbcnews.com',\n",
       " 'news.cgtn.com',\n",
       " 'npr.org',\n",
       " 'nytimes.com',\n",
       " 'phys.org',\n",
       " 'reuters.com',\n",
       " 'snopes.com',\n",
       " 'sputniknews.com',\n",
       " 'theconversation.com',\n",
       " 'theguardian.com',\n",
       " 'theknow.denverpost.com',\n",
       " 'thescottishsun.co.uk',\n",
       " 'voanews.com',\n",
       " 'washingtonpost.com',\n",
       " 'wbur.org',\n",
       " 'youwantedalist.com']"
      ]
     },
     "execution_count": 6,
     "metadata": {},
     "output_type": "execute_result"
    }
   ],
   "source": [
    "domains"
   ]
  },
  {
   "cell_type": "code",
   "execution_count": null,
   "metadata": {},
   "outputs": [],
   "source": []
  }
 ],
 "metadata": {
  "kernelspec": {
   "display_name": "venv",
   "language": "python",
   "name": "python3"
  },
  "language_info": {
   "codemirror_mode": {
    "name": "ipython",
    "version": 3
   },
   "file_extension": ".py",
   "mimetype": "text/x-python",
   "name": "python",
   "nbconvert_exporter": "python",
   "pygments_lexer": "ipython3",
   "version": "3.10.11"
  }
 },
 "nbformat": 4,
 "nbformat_minor": 2
}
