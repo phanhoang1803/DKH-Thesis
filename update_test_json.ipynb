{
 "cells": [
  {
   "cell_type": "code",
   "execution_count": 1,
   "metadata": {},
   "outputs": [],
   "source": [
    "import json\n",
    "import os"
   ]
  },
  {
   "cell_type": "code",
   "execution_count": 7,
   "metadata": {},
   "outputs": [],
   "source": [
    "folder = \"queries_dataset_1k/merged_balanced/inverse_search/test\"\n",
    "\n",
    "all_idx = {}\n",
    "for i in range(7500):\n",
    "    if os.path.exists(os.path.join(folder, str(i), \"inverse_annotation.json\")):\n",
    "        new_entry = {\n",
    "                str(i): {\n",
    "                    \"folder_path\": f\"queries_dataset_1k\\\\merged_balanced\\\\inverse_search\\\\test\\\\{i}\"\n",
    "                },\n",
    "        }\n",
    "        \n",
    "        all_idx.update(new_entry)\n",
    "    \n",
    "with open(\"queries_dataset_1k/merged_balanced/inverse_search/test/test.json\", \"w\") as f:\n",
    "    json.dump(all_idx, f)"
   ]
  },
  {
   "cell_type": "code",
   "execution_count": 8,
   "metadata": {},
   "outputs": [],
   "source": [
    "folder = \"queries_dataset_1k/merged_balanced/direct_search/test\"\n",
    "\n",
    "all_idx = {}\n",
    "for i in range(7500):\n",
    "    if os.path.exists(os.path.join(folder, str(i), \"direct_annotation.json\")):\n",
    "        new_entry = {\n",
    "                str(i): {\n",
    "                    \"folder_path\": f\"queries_dataset_1k\\\\merged_balanced\\\\direct_search\\\\test\\\\{i}\"\n",
    "                },\n",
    "        }\n",
    "        \n",
    "        all_idx.update(new_entry)\n",
    "    \n",
    "with open(\"queries_dataset_1k/merged_balanced/direct_search/test/test.json\", \"w\") as f:\n",
    "    json.dump(all_idx, f)"
   ]
  },
  {
   "cell_type": "code",
   "execution_count": 2,
   "metadata": {},
   "outputs": [],
   "source": [
    "folder = \"queries_dataset_cosmos/inverse_search/test\"\n",
    "\n",
    "all_idx = {}\n",
    "for i in range(7500):\n",
    "    if os.path.exists(os.path.join(folder, str(i), \"inverse_annotation.json\")):\n",
    "        new_entry = {\n",
    "                str(i): {\n",
    "                    \"folder_path\": f\"queries_dataset_cosmos\\\\inverse_search\\\\test\\\\{i}\"\n",
    "                },\n",
    "        }\n",
    "        \n",
    "        all_idx.update(new_entry)\n",
    "    \n",
    "with open(\"queries_dataset_cosmos/inverse_search/test/test.json\", \"w\") as f:\n",
    "    json.dump(all_idx, f)"
   ]
  },
  {
   "cell_type": "code",
   "execution_count": 3,
   "metadata": {},
   "outputs": [],
   "source": [
    "import json\n",
    "import os\n",
    "\n",
    "folder = \"queries_dataset/merged_balanced/inverse_search/test\"\n",
    "\n",
    "all_idx = {}\n",
    "for i in range(7500):\n",
    "    if os.path.exists(os.path.join(folder, str(i), \"inverse_annotation.json\")):\n",
    "        new_entry = {\n",
    "                str(i): {\n",
    "                    \"folder_path\": f\"queries_dataset\\\\merged_balanced\\\\inverse_search\\\\test\\\\{i}\"\n",
    "                },\n",
    "        }\n",
    "        \n",
    "        all_idx.update(new_entry)\n",
    "    \n",
    "with open(\"queries_dataset/merged_balanced/inverse_search/test/test.json\", \"w\") as f:\n",
    "    json.dump(all_idx, f)"
   ]
  },
  {
   "cell_type": "code",
   "execution_count": 8,
   "metadata": {},
   "outputs": [],
   "source": [
    "# Create 1000 random index, and sort\n",
    "import random\n",
    "random_index = random.sample(range(7200), 1000)\n",
    "random_index.sort()\n",
    "with open(\"random_index.txt\", \"w\") as f:\n",
    "    for idx in random_index:\n",
    "        f.write(f\"{idx}\\n\")\n"
   ]
  },
  {
   "cell_type": "code",
   "execution_count": null,
   "metadata": {},
   "outputs": [],
   "source": []
  },
  {
   "cell_type": "code",
   "execution_count": null,
   "metadata": {},
   "outputs": [],
   "source": []
  }
 ],
 "metadata": {
  "kernelspec": {
   "display_name": "venv",
   "language": "python",
   "name": "python3"
  },
  "language_info": {
   "codemirror_mode": {
    "name": "ipython",
    "version": 3
   },
   "file_extension": ".py",
   "mimetype": "text/x-python",
   "name": "python",
   "nbconvert_exporter": "python",
   "pygments_lexer": "ipython3",
   "version": "3.10.11"
  }
 },
 "nbformat": 4,
 "nbformat_minor": 2
}
